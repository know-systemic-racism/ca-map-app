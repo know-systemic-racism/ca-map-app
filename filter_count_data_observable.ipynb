{
 "cells": [
  {
   "cell_type": "markdown",
   "id": "a5d5f995-db48-46f8-a884-55a60ba688f1",
   "metadata": {},
   "source": [
    "# Edit Observable Plot Data"
   ]
  },
  {
   "cell_type": "markdown",
   "id": "7ba2a059-bddc-48ad-9eee-e9c3bfaff58b",
   "metadata": {},
   "source": [
    "The goal here is to remove all of the counties in this dataset from Observable Plot except those from California"
   ]
  },
  {
   "cell_type": "code",
   "execution_count": 35,
   "id": "fc67a064-ff39-42cf-9e3c-1f563a7ff3b3",
   "metadata": {},
   "outputs": [
    {
     "name": "stdout",
     "output_type": "stream",
     "text": [
      "58 [{'type': 'Polygon', 'arcs': [[174, 175, 176, 177, 178]], 'id': '06069', 'properties': {'name': 'San Benito'}}, {'type': 'Polygon', 'arcs': [[527, 528, 529, 530, 531, 532]], 'id': '06089', 'properties': {'name': 'Shasta'}}, {'type': 'Polygon', 'arcs': [[929, 930, 931, 932, 933]], 'id': '06091', 'properties': {'name': 'Sierra'}}, {'type': 'Polygon', 'arcs': [[1100, 1101, 1102, 1103, 1104, 1105, -178, 1106]], 'id': '06019', 'properties': {'name': 'Fresno'}}, {'type': 'Polygon', 'arcs': [[1211, 1212, 1213, 1214, 1215]], 'id': '06005', 'properties': {'name': 'Amador'}}, {'type': 'Polygon', 'arcs': [[1216, 1217, -1212, 1218, 1219]], 'id': '06017', 'properties': {'name': 'El Dorado'}}, {'type': 'Polygon', 'arcs': [[1241, -179, -1106, 1242, 1243, 1244]], 'id': '06053', 'properties': {'name': 'Monterey'}}, {'type': 'Polygon', 'arcs': [[1930, 1931, 1932, -7, 1933, 1934, 1935, 1936]], 'id': '06071', 'properties': {'name': 'San Bernardino'}}, {'type': 'Polygon', 'arcs': [[2099, 2100, 2101, 2102, 2103, -532]], 'id': '06103', 'properties': {'name': 'Tehama'}}, {'type': 'Polygon', 'arcs': [[-933, 2466, 2467, 2468]], 'id': '06057', 'properties': {'name': 'Nevada'}}, {'type': 'Polygon', 'arcs': [[2605, 2606, 2607, 2608, 2609, 2610]], 'id': '06109', 'properties': {'name': 'Tuolumne'}}, {'type': 'MultiPolygon', 'arcs': [[[2863]], [[2864]], [[2865]], [[2866, 2867, 2868, 2869]]], 'id': '06083', 'properties': {'name': 'Santa Barbara'}}, {'type': 'Polygon', 'arcs': [[2870, -533, -2104, 2871, 2872]], 'id': '06105', 'properties': {'name': 'Trinity'}}, {'type': 'Polygon', 'arcs': [[3805, 3806, 3807, -2610, 3808, 3809, 3810]], 'id': '06099', 'properties': {'name': 'Stanislaus'}}, {'type': 'Polygon', 'arcs': [[3811, 3812, 3813, 3814, 3815]], 'id': '06011', 'properties': {'name': 'Colusa'}}, {'type': 'Polygon', 'arcs': [[-1213, -1218, 3856, 3857, -2606, 3858]], 'id': '06003', 'properties': {'name': 'Alpine'}}, {'type': 'Polygon', 'arcs': [[-2476, 3859, 3860, 3861, -528, -2871, 3862, 3863]], 'id': '06093', 'properties': {'name': 'Siskiyou'}}, {'type': 'Polygon', 'arcs': [[-3122, -2477, -3864, 4256, 4257]], 'id': '06015', 'properties': {'name': 'Del Norte'}}, {'type': 'Polygon', 'arcs': [[4828, -2524, 4829, 4830, -1932, 4831, 4832, -1103]], 'id': '06027', 'properties': {'name': 'Inyo'}}, {'type': 'Polygon', 'arcs': [[5289, -1215, 5290, -3807, 5291, 5292]], 'id': '06077', 'properties': {'name': 'San Joaquin'}}, {'type': 'Polygon', 'arcs': [[5587, -2940, -5525, 5588, 5589]], 'id': '06025', 'properties': {'name': 'Imperial'}}, {'type': 'Polygon', 'arcs': [[-3859, -2611, -3808, -5291, -1214]], 'id': '06009', 'properties': {'name': 'Calaveras'}}, {'type': 'Polygon', 'arcs': [[6289, 6290, 6291, -3813, 6292, -2101]], 'id': '06007', 'properties': {'name': 'Butte'}}, {'type': 'Polygon', 'arcs': [[6831, 6832, -2608, 6833, -1101]], 'id': '06039', 'properties': {'name': 'Madera'}}, {'type': 'MultiPolygon', 'arcs': [[[6921]], [[-2869, 6922, 6923, 6924]], [[6925]]], 'id': '06111', 'properties': {'name': 'Ventura'}}, {'type': 'Polygon', 'arcs': [[6926, -1936, 6927, 6928, 6929]], 'id': '06059', 'properties': {'name': 'Orange'}}, {'type': 'Polygon', 'arcs': [[6976, 6977, -4832, -1931, 6978, -6923, -2868, 6979]], 'id': '06029', 'properties': {'name': 'Kern'}}, {'type': 'Polygon', 'arcs': [[7029, 7030, -5293, 7031, 7032]], 'id': '06013', 'properties': {'name': 'Contra Costa'}}, {'type': 'Polygon', 'arcs': [[-1105, 7408, -6977, 7409, -1243]], 'id': '06031', 'properties': {'name': 'Kings'}}, {'type': 'Polygon', 'arcs': [[7410, -2872, -2103, 7411, 7412, 7413, 7414]], 'id': '06045', 'properties': {'name': 'Mendocino'}}, {'type': 'Polygon', 'arcs': [[-7414, 7628, 7629, 7630, 7631, 7632, 7633]], 'id': '06097', 'properties': {'name': 'Sonoma'}}, {'type': 'Polygon', 'arcs': [[-6291, 7718, -934, -2469, 7719, 7720]], 'id': '06115', 'properties': {'name': 'Yuba'}}, {'type': 'Polygon', 'arcs': [[-3810, 7786, -6832, -1107, -177, 7787]], 'id': '06047', 'properties': {'name': 'Merced'}}, {'type': 'Polygon', 'arcs': [[-4833, -6978, -7409, -1104]], 'id': '06107', 'properties': {'name': 'Tulare'}}, {'type': 'Polygon', 'arcs': [[7875, 7876, 7877, -1219, -1216, -5290, -7031, 7878]], 'id': '06067', 'properties': {'name': 'Sacramento'}}, {'type': 'Polygon', 'arcs': [[7914, 7915, -7879, -7030, 7916, -7631]], 'id': '06095', 'properties': {'name': 'Solano'}}, {'type': 'MultiPolygon', 'arcs': [[[8157, 8158]], [[8159, 8160]]], 'id': '06075', 'properties': {'name': 'San Francisco'}}, {'type': 'Polygon', 'arcs': [[-6833, -7787, -3809, -2609]], 'id': '06043', 'properties': {'name': 'Mariposa'}}, {'type': 'MultiPolygon', 'arcs': [[[-7633, 8251]]], 'id': '06041', 'properties': {'name': 'Marin'}}, {'type': 'Polygon', 'arcs': [[-6292, -7721, 8259, -7877, 8260, -3814]], 'id': '06101', 'properties': {'name': 'Sutter'}}, {'type': 'Polygon', 'arcs': [[8298, -7830, -931, 8299, -530]], 'id': '06035', 'properties': {'name': 'Lassen'}}, {'type': 'Polygon', 'arcs': [[-2936, -5588, 8377, -6928, -1935]], 'id': '06065', 'properties': {'name': 'Riverside'}}, {'type': 'Polygon', 'arcs': [[-531, -8300, -930, -7719, -6290, -2100]], 'id': '06063', 'properties': {'name': 'Plumas'}}, {'type': 'Polygon', 'arcs': [[8718, 8719, -3811, -7788, -176, 8720, 8721]], 'id': '06085', 'properties': {'name': 'Santa Clara'}}, {'type': 'Polygon', 'arcs': [[-7720, -2468, -7837, 8788, -8114, -1220, -7878, -8260]], 'id': '06061', 'properties': {'name': 'Placer'}}, {'type': 'Polygon', 'arcs': [[-1244, -7410, -6980, -2867, 8883]], 'id': '06079', 'properties': {'name': 'San Luis Obispo'}}, {'type': 'Polygon', 'arcs': [[-8160, 8912, -8722, 8913, 8914]], 'id': '06081', 'properties': {'name': 'San Mateo'}}, {'type': 'Polygon', 'arcs': [[-3858, -8113, 8930, -4423, -2525, -4829, -1102, -6834, -2607]], 'id': '06051', 'properties': {'name': 'Mono'}}, {'type': 'Polygon', 'arcs': [[-6929, -8378, -5590, 8931]], 'id': '06073', 'properties': {'name': 'San Diego'}}, {'type': 'Polygon', 'arcs': [[8958, 8959, -7915, -7630]], 'id': '06055', 'properties': {'name': 'Napa'}}, {'type': 'Polygon', 'arcs': [[-7032, -5292, -3806, -8720, 9139, -8158, 9140]], 'id': '06001', 'properties': {'name': 'Alameda'}}, {'type': 'Polygon', 'arcs': [[-3815, -8261, -7876, -7916, -8960, 9256]], 'id': '06113', 'properties': {'name': 'Yolo'}}, {'type': 'Polygon', 'arcs': [[9309, -3816, -9257, -8959, -7629, -7413]], 'id': '06033', 'properties': {'name': 'Lake'}}, {'type': 'MultiPolygon', 'arcs': [[[9385]], [[9386]], [[-6979, -1937, -6927, 9387, -6924]]], 'id': '06037', 'properties': {'name': 'Los Angeles'}}, {'type': 'Polygon', 'arcs': [[-2102, -6293, -3812, -9310, -7412]], 'id': '06021', 'properties': {'name': 'Glenn'}}, {'type': 'Polygon', 'arcs': [[-8721, -175, -1242, 9428, -8914]], 'id': '06087', 'properties': {'name': 'Santa Cruz'}}, {'type': 'Polygon', 'arcs': [[-4257, -3863, -2873, -7411, 9429]], 'id': '06023', 'properties': {'name': 'Humboldt'}}, {'type': 'Polygon', 'arcs': [[-6959, -3954, -7831, -8299, -529, -3862]], 'id': '06049', 'properties': {'name': 'Modoc'}}]\n"
     ]
    }
   ],
   "source": [
    "import json\n",
    "  \n",
    "# Opening JSON file\n",
    "f = open('counties-albers-10m.json')\n",
    "  \n",
    "# returns JSON object as a dictionary\n",
    "data = json.load(f)\n",
    "\n",
    "# california counties\n",
    "# ca_counties = [\n",
    "# \"Alameda\", \n",
    "# \"Alpine\", \n",
    "# \"Amador\", \n",
    "# \"Butte\", \n",
    "# \"Calaveras\",\n",
    "# \"Colusa\", \n",
    "# \"Contra Costa\", \n",
    "# \"Del Norte\", \n",
    "# \"El Dorado\", \n",
    "# \"Fresno\", \n",
    "# \"Glenn\", \n",
    "# \"Humboldt\", \n",
    "# \"Imperial\", \n",
    "# \"Inyo\", \n",
    "# \"Kern\", \n",
    "# \"Kings\", \n",
    "# \"Lake\", \n",
    "# \"Lassen\", \n",
    "# \"Los Angeles\", \n",
    "# \"Madera\",\n",
    "# \"Marin\", \n",
    "# \"Mariposa\", \n",
    "# \"Mendocino\", \n",
    "# \"Merced\", \n",
    "# \"Modoc\", \n",
    "# \"Mono\", \n",
    "# \"Monterey\", \n",
    "# \"Napa\", \n",
    "# \"Nevada\", \n",
    "# \"Orange\",\n",
    "# \"Placer\",\n",
    "# \"Plumas\", \n",
    "# \"Riverside\", \n",
    "# \"Sacramento\", \n",
    "# \"San Benito\" , \n",
    "# \"San Bernardino\" , \n",
    "# \"San Diego\" , \n",
    "# \"San Francisco\", \n",
    "# \"San Joaquin\" , \n",
    "# \"San Luis Obispo\" , \n",
    "# \"San Mateo\",\n",
    "# \"Santa Barbara\", \n",
    "# \"Santa Clara\", \n",
    "# \"Santa Cruz\", \n",
    "# \"Shasta\", \n",
    "# \"Sierra\", \n",
    "# \"Siskiyou\", \n",
    "# \"Solano\", \n",
    "# \"Sonoma\", \n",
    "# \"Stanislaus\", \n",
    "# \"Sutter\", \n",
    "# \"Tehama\", \n",
    "# \"Trinity\",\n",
    "# \"Tulare\", \n",
    "# \"Tuolumne\", \n",
    "# \"Ventura\", \n",
    "# \"Yolo\", \n",
    "# \"Yuba\"]\n",
    "  \n",
    "# delete all non-california counties\n",
    "counties_list = data['objects']['counties']['geometries']\n",
    "new_counties_list = []\n",
    "for i, obj in enumerate(counties_list):\n",
    "    if obj['id'][0:2] == '06':  # 06 is the beginning of California's fips codes\n",
    "        new_counties_list.append(obj)\n",
    "   \n",
    "\n",
    "# new_states_list = []\n",
    "# states_list = data['objects']['states']['geometries']\n",
    "# for i, obj in enumerate(states_list):\n",
    "#     if obj['properties']['name'] == 'California':\n",
    "#         new_states_list.append(obj)\n",
    "        \n",
    "        \n",
    "# reassign lists\n",
    "data['objects']['counties']['geometries'] = new_counties_list\n",
    "# data['objects']['states']['geometries'] = new_states_list\n",
    "print(len(data['objects']['counties']['geometries']), data['objects']['counties']['geometries'])\n",
    "\n",
    "\n",
    "# print(data)\n",
    "  \n",
    "\n",
    "# Make and save new modified data file\n",
    "new_counties_file = 'ca_counties_same_states.json'\n",
    "with open(new_counties_file, 'w', encoding='utf-8') as f:\n",
    "    f.write(json.dumps(data, indent=2))\n",
    "    \n",
    "# Closing file\n",
    "f.close()"
   ]
  },
  {
   "cell_type": "code",
   "execution_count": null,
   "id": "e7a8aa50-0bda-4d40-b9b2-187c6e1724c5",
   "metadata": {},
   "outputs": [],
   "source": []
  }
 ],
 "metadata": {
  "kernelspec": {
   "display_name": "Python 3 (ipykernel)",
   "language": "python",
   "name": "python3"
  },
  "language_info": {
   "codemirror_mode": {
    "name": "ipython",
    "version": 3
   },
   "file_extension": ".py",
   "mimetype": "text/x-python",
   "name": "python",
   "nbconvert_exporter": "python",
   "pygments_lexer": "ipython3",
   "version": "3.10.9"
  }
 },
 "nbformat": 4,
 "nbformat_minor": 5
}
