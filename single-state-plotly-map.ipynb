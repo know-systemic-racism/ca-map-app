{
 "cells": [
  {
   "cell_type": "markdown",
   "id": "91c88b6f-68c4-4f43-99f2-18711930ea4b",
   "metadata": {},
   "source": [
    "# Single State County Map"
   ]
  },
  {
   "cell_type": "code",
   "execution_count": null,
   "id": "b77ee9d2-3625-460d-9958-8ce605475c31",
   "metadata": {},
   "outputs": [],
   "source": [
    "import plotly.figure_factory as ff\n",
    "\n",
    "import numpy as np\n",
    "import pandas as pd\n",
    "\n",
    "df_sample = pd.read_csv('https://raw.githubusercontent.com/plotly/datasets/master/minoritymajority.csv')\n",
    "df_sample_r = df_sample[df_sample['STNAME'] == 'Florida']\n",
    "\n",
    "values = df_sample_r['TOT_POP'].tolist()\n",
    "fips = df_sample_r['FIPS'].tolist()\n",
    "\n",
    "endpts = list(np.mgrid[min(values):max(values):4j])\n",
    "colorscale = [\"#030512\",\"#1d1d3b\",\"#323268\",\"#3d4b94\",\"#3e6ab0\",\n",
    "              \"#4989bc\",\"#60a7c7\",\"#85c5d3\",\"#b7e0e4\",\"#eafcfd\"]\n",
    "fig = ff.create_choropleth(\n",
    "    fips=fips, values=values, scope=['Florida'], show_state_data=True,\n",
    "    colorscale=colorscale, binning_endpoints=endpts, round_legend_values=True,\n",
    "    plot_bgcolor='rgb(229,229,229)',\n",
    "    paper_bgcolor='rgb(229,229,229)',\n",
    "    legend_title='Population by County',\n",
    "    county_outline={'color': 'rgb(255,255,255)', 'width': 0.5},\n",
    "    exponent_format=True,\n",
    ")\n",
    "fig.layout.template = None\n",
    "fig.show()"
   ]
  }
 ],
 "metadata": {
  "kernelspec": {
   "display_name": "Python 3 (ipykernel)",
   "language": "python",
   "name": "python3"
  },
  "language_info": {
   "codemirror_mode": {
    "name": "ipython",
    "version": 3
   },
   "file_extension": ".py",
   "mimetype": "text/x-python",
   "name": "python",
   "nbconvert_exporter": "python",
   "pygments_lexer": "ipython3",
   "version": "3.10.9"
  }
 },
 "nbformat": 4,
 "nbformat_minor": 5
}
