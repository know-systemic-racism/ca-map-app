{
 "cells": [
  {
   "cell_type": "markdown",
   "id": "71e8ac1e-3a2f-481f-9a25-f5c9df27c0f2",
   "metadata": {},
   "source": [
    "# A Search Bar To Search Information About California LEA's"
   ]
  },
  {
   "cell_type": "code",
   "execution_count": 4,
   "id": "3af3790f-3b94-4fd6-967c-211a67c48bfd",
   "metadata": {},
   "outputs": [
    {
     "name": "stdin",
     "output_type": "stream",
     "text": [
      "Enter a zip code, city, or police department: Los Angeles\n"
     ]
    },
    {
     "name": "stderr",
     "output_type": "stream",
     "text": [
      "Exception in Tkinter callback\n",
      "Traceback (most recent call last):\n",
      "  File \"C:\\Users\\anaco\\anaconda3\\lib\\site-packages\\pandas\\core\\indexes\\base.py\", line 3802, in get_loc\n",
      "    return self._engine.get_loc(casted_key)\n",
      "  File \"pandas\\_libs\\index.pyx\", line 138, in pandas._libs.index.IndexEngine.get_loc\n",
      "  File \"pandas\\_libs\\index.pyx\", line 165, in pandas._libs.index.IndexEngine.get_loc\n",
      "  File \"pandas\\_libs\\hashtable_class_helper.pxi\", line 2263, in pandas._libs.hashtable.Int64HashTable.get_item\n",
      "  File \"pandas\\_libs\\hashtable_class_helper.pxi\", line 2273, in pandas._libs.hashtable.Int64HashTable.get_item\n",
      "KeyError: 0\n",
      "\n",
      "The above exception was the direct cause of the following exception:\n",
      "\n",
      "Traceback (most recent call last):\n",
      "  File \"C:\\Users\\anaco\\anaconda3\\lib\\tkinter\\__init__.py\", line 1921, in __call__\n",
      "    return self.func(*args)\n",
      "  File \"C:\\Users\\anaco\\AppData\\Local\\Temp\\ipykernel_16940\\3507415397.py\", line 11, in click_btn\n",
      "    print(rows['LEA_Name'][i], rows['LEA_Type'][i], rows['Site'][i], rows['QA_Policy_Manual'][i])\n",
      "  File \"C:\\Users\\anaco\\anaconda3\\lib\\site-packages\\pandas\\core\\series.py\", line 981, in __getitem__\n",
      "    return self._get_value(key)\n",
      "  File \"C:\\Users\\anaco\\anaconda3\\lib\\site-packages\\pandas\\core\\series.py\", line 1089, in _get_value\n",
      "    loc = self.index.get_loc(label)\n",
      "  File \"C:\\Users\\anaco\\anaconda3\\lib\\site-packages\\pandas\\core\\indexes\\base.py\", line 3804, in get_loc\n",
      "    raise KeyError(key) from err\n",
      "KeyError: 0\n"
     ]
    }
   ],
   "source": [
    "import pandas as pd\n",
    "df = pd.read_csv(\"LEA-20230424.csv\")\n",
    "\n",
    "# prompt user to enter a zip code, city, or police department name\n",
    "def click_btn():\n",
    "    search_term = input(\"Enter a zip code, city, or police department:\")\n",
    "    # select rows where city is == search_term\n",
    "    rows = df.loc[df['City'] == search_term]\n",
    "    # print(rows['LEA_Name'], rows['LEA_Type'], rows['Site'], rows['QA_Policy_Manual'])\n",
    "    for i in range(len(rows['LEA_Name'])):\n",
    "        print(rows['LEA_Name'][i], rows['LEA_Type'][i], rows['Site'][i], rows['QA_Policy_Manual'][i])\n",
    "\n",
    "# import everything from tkinter module\n",
    "from tkinter import *   \n",
    " \n",
    "# create a tkinter window\n",
    "root = Tk()             \n",
    " \n",
    "# Open window having dimension 100x100\n",
    "root.geometry('100x100')\n",
    " \n",
    "# Create a Button\n",
    "btn = Button(root, text = 'Click me !', bd = '5',\n",
    "                          command = click_btn)\n",
    " \n",
    "# Set the position of button on the top of window.  \n",
    "btn.pack(side = 'top')   \n",
    " \n",
    "root.mainloop()\n",
    "  \n"
   ]
  },
  {
   "cell_type": "code",
   "execution_count": null,
   "id": "83fc9cbb-049e-4675-9dfd-5eb5fa323c8b",
   "metadata": {},
   "outputs": [],
   "source": []
  }
 ],
 "metadata": {
  "kernelspec": {
   "display_name": "Python 3 (ipykernel)",
   "language": "python",
   "name": "python3"
  },
  "language_info": {
   "codemirror_mode": {
    "name": "ipython",
    "version": 3
   },
   "file_extension": ".py",
   "mimetype": "text/x-python",
   "name": "python",
   "nbconvert_exporter": "python",
   "pygments_lexer": "ipython3",
   "version": "3.10.9"
  }
 },
 "nbformat": 4,
 "nbformat_minor": 5
}
